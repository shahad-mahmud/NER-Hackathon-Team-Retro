{
 "cells": [
  {
   "cell_type": "code",
   "execution_count": null,
   "metadata": {},
   "outputs": [],
   "source": [
    "import src\n",
    "import yaml\n",
    "\n",
    "import sklearn_crfsuite\n",
    "from sklearn import metrics\n",
    "from sklearn.model_selection import RandomizedSearchCV\n",
    "from tqdm import tqdm"
   ]
  },
  {
   "cell_type": "code",
   "execution_count": null,
   "metadata": {},
   "outputs": [],
   "source": [
    "configs = yaml.safe_load(open('configs/ml_model.yaml'))"
   ]
  },
  {
   "cell_type": "code",
   "execution_count": null,
   "metadata": {},
   "outputs": [],
   "source": [
    "train_data = src.utils.read_ner_data(configs['train_data_path'])\n",
    "valid_data = src.utils.read_ner_data(configs['valid_data_path'])\n",
    "test_data = src.utils.read_ner_data(configs['test_data_path'])"
   ]
  },
  {
   "cell_type": "code",
   "execution_count": null,
   "metadata": {},
   "outputs": [],
   "source": [
    "train_features = [src.utils.line_to_features(line) for line in tqdm(train_data[0], dynamic_ncols=True)]\n",
    "test_features = [src.utils.line_to_features(line) for line in tqdm(test_data[0], dynamic_ncols=True)]\n",
    "\n",
    "train_labels = train_data[1]\n",
    "test_labels = test_data[1]"
   ]
  },
  {
   "cell_type": "code",
   "execution_count": null,
   "metadata": {},
   "outputs": [],
   "source": [
    "model = sklearn_crfsuite.CRF(\n",
    "    max_iterations=100,\n",
    "    all_possible_transitions=True\n",
    ")\n",
    "\n",
    "distributions = {\n",
    "    'algorithm': ['lbfgs', 'l2sgd', 'ap', 'ap', 'ap'],\n",
    "    'c1': [0.1, 0.15, 0.2],\n",
    "    'c2': [0.05, 0.1, 0.15, 0.2]\n",
    "}\n",
    "\n",
    "def scorer(golds, preds, average='macro'):\n",
    "    golds = src.utils.flatten(golds)\n",
    "    preds = src.utils.flatten(preds) \n",
    "    \n",
    "    return metrics.f1_score(golds, preds, average='macro', labels=['O', 'B-LOC', 'B-GRP', 'I-GRP', 'B-PROD', 'B-CORP', 'I-CORP', 'I-LOC', 'B-PER', 'I-PER', 'B-CW', 'I-CW', 'I-PROD'])"
   ]
  },
  {
   "cell_type": "code",
   "execution_count": null,
   "metadata": {},
   "outputs": [],
   "source": [
    "max_score = -1\n",
    "max_config = {}\n",
    "\n",
    "for algo in distributions['algorithm']:\n",
    "    for c1 in distributions['c1']:\n",
    "        for c2 in distributions['c2']:\n",
    "            model = sklearn_crfsuite.CRF(\n",
    "                algorithm=algo,\n",
    "                c1=c1,\n",
    "                c2=c2,\n",
    "                max_iterations=100,\n",
    "                all_possible_transitions=True\n",
    "            )\n",
    "            \n",
    "            model.fit(train_features, train_labels)\n",
    "            preds = model.predict(test_features)\n",
    "            \n",
    "            score = scorer(test_labels, preds)\n",
    "            if score > max_score:\n",
    "                max_score = score\n",
    "                \n",
    "                max_config['algorithm'] = algo\n",
    "                max_config['c1'] = c1\n",
    "                max_config['c2'] = c2\n",
    "                max_config['score'] = score\n",
    "                \n",
    "                print('Intermediate:', max_config)\n",
    "\n",
    "print('Final:', max_config)"
   ]
  },
  {
   "cell_type": "code",
   "execution_count": null,
   "metadata": {},
   "outputs": [],
   "source": [
    "import scipy\n",
    "\n",
    "distributions = {\n",
    "    'algorithm': ['lbfgs', 'l2sgd', 'ap', 'ap', 'ap'],\n",
    "    'c1': scipy.stats.expon(scale=0.5),\n",
    "    'c2': scipy.stats.expon(scale=0.05),\n",
    "}\n",
    "\n",
    "searcher = RandomizedSearchCV(\n",
    "    model,\n",
    "    distributions,\n",
    "    cv=3,\n",
    "    scoring=scorer,\n",
    "    verbose=1,\n",
    "    n_jobs=-1,\n",
    "    n_iter=50,\n",
    ")\n",
    "searcher.fit(train_features, train_labels)"
   ]
  },
  {
   "cell_type": "code",
   "execution_count": null,
   "metadata": {},
   "outputs": [],
   "source": []
  }
 ],
 "metadata": {
  "kernelspec": {
   "display_name": "gen",
   "language": "python",
   "name": "python3"
  },
  "language_info": {
   "codemirror_mode": {
    "name": "ipython",
    "version": 3
   },
   "file_extension": ".py",
   "mimetype": "text/x-python",
   "name": "python",
   "nbconvert_exporter": "python",
   "pygments_lexer": "ipython3",
   "version": "3.8.13 (default, Mar 28 2022, 11:38:47) \n[GCC 7.5.0]"
  },
  "orig_nbformat": 4,
  "vscode": {
   "interpreter": {
    "hash": "fc066d8752884d0fac5166579f18863fda83c925fb019a0189b0fd9527104722"
   }
  }
 },
 "nbformat": 4,
 "nbformat_minor": 2
}
